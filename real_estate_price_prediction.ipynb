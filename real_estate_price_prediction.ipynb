{
 "cells": [
  {
   "cell_type": "markdown",
   "id": "GEqQaHzsZ_bA",
   "metadata": {
    "id": "GEqQaHzsZ_bA"
   },
   "source": "# Предсказание стоимости жилья"
  },
  {
   "cell_type": "markdown",
   "id": "0401d958",
   "metadata": {},
   "source": [
    "## Описание проекта\n",
    "В проекте нам нужно обучить модель линейной регрессии на данных о жилье в Калифорнии в 1990 году.\n",
    "В колонках датасета содержатся следующие данные:\n",
    "- `longitude` — долгота;\n",
    "- `latitude` — широта;\n",
    "- `housing_median_age` — медианный возраст жителей жилого массива;\n",
    "- `total_rooms` — общее количество комнат в домах жилого массива;\n",
    "- `total_bedrooms` — общее количество спален в домах жилого массива;\n",
    "- `population` — количество человек, которые проживают в жилом массиве;\n",
    "- `households` — количество домовладений в жилом массиве;\n",
    "- `median_income` — медианный доход жителей жилого массива;\n",
    "- `median_house_value` — медианная стоимость дома в жилом массиве; **Целевой признак**\n",
    "- `ocean_proximity` — близость к океану.\n",
    "\n",
    "На основе данных нужно предсказать медианную стоимость дома в жилом массиве — `median_house_value`. Обучим модель и сделаем предсказания на тестовой выборке. Для оценки качества модели используем метрики RMSE, MAE и R2."
   ]
  },
  {
   "cell_type": "code",
   "execution_count": 1,
   "id": "d1e6423e",
   "metadata": {},
   "outputs": [],
   "source": [
    "# Необходимые импорты\n",
    "import pandas as pd\n",
    "import pyspark\n",
    "\n",
    "from pyspark.sql import SparkSession\n",
    "from pyspark.sql.types import *\n",
    "import pyspark.sql.functions as F\n",
    "\n",
    "from pyspark.ml.feature import (\n",
    "    StringIndexer,\n",
    "    VectorAssembler,\n",
    "    StandardScaler\n",
    ")\n",
    "from pyspark.ml.evaluation import RegressionEvaluator\n",
    "from pyspark.ml.regression import LinearRegression\n",
    "from pyspark.ml import Pipeline\n",
    "\n",
    "# Импортируем OneHotEncoder в зависимости от версии\n",
    "if int(pyspark.__version__[:1]) == 3:\n",
    "    from pyspark.ml.feature import OneHotEncoder\n",
    "elif int(pyspark.__version__[:1]) == 2:\n",
    "    from pyspark.ml.feature import OneHotEncodeEstimator\n",
    "\n",
    "RANDOM_STATE = 42"
   ]
  },
  {
   "cell_type": "code",
   "execution_count": 2,
   "id": "720af74c",
   "metadata": {},
   "outputs": [
    {
     "data": {
      "text/plain": [
       "'3.0.2'"
      ]
     },
     "execution_count": 2,
     "metadata": {},
     "output_type": "execute_result"
    }
   ],
   "source": [
    "# Проверяем версию pyspark\n",
    "pyspark.__version__"
   ]
  },
  {
   "cell_type": "markdown",
   "id": "fd0f0ddb",
   "metadata": {},
   "source": [
    "## Инициализация сессии и загрузка данных"
   ]
  },
  {
   "cell_type": "code",
   "execution_count": 3,
   "id": "6953a1da",
   "metadata": {},
   "outputs": [],
   "source": [
    "# Инициализируем spark сессию\n",
    "spark = SparkSession.builder \\\n",
    "    .master('local') \\\n",
    "    .appName('California real estate price prediction') \\\n",
    "    .getOrCreate()"
   ]
  },
  {
   "cell_type": "code",
   "execution_count": 4,
   "id": "8ce5c743",
   "metadata": {},
   "outputs": [
    {
     "name": "stderr",
     "output_type": "stream",
     "text": [
      "                                                                                \r"
     ]
    },
    {
     "name": "stdout",
     "output_type": "stream",
     "text": [
      "+---------+--------+------------------+-----------+--------------+----------+----------+-------------+------------------+---------------+\n",
      "|longitude|latitude|housing_median_age|total_rooms|total_bedrooms|population|households|median_income|median_house_value|ocean_proximity|\n",
      "+---------+--------+------------------+-----------+--------------+----------+----------+-------------+------------------+---------------+\n",
      "|  -122.23|   37.88|              41.0|      880.0|         129.0|     322.0|     126.0|       8.3252|          452600.0|       NEAR BAY|\n",
      "|  -122.22|   37.86|              21.0|     7099.0|        1106.0|    2401.0|    1138.0|       8.3014|          358500.0|       NEAR BAY|\n",
      "|  -122.24|   37.85|              52.0|     1467.0|         190.0|     496.0|     177.0|       7.2574|          352100.0|       NEAR BAY|\n",
      "|  -122.25|   37.85|              52.0|     1274.0|         235.0|     558.0|     219.0|       5.6431|          341300.0|       NEAR BAY|\n",
      "|  -122.25|   37.85|              52.0|     1627.0|         280.0|     565.0|     259.0|       3.8462|          342200.0|       NEAR BAY|\n",
      "|  -122.25|   37.85|              52.0|      919.0|         213.0|     413.0|     193.0|       4.0368|          269700.0|       NEAR BAY|\n",
      "|  -122.25|   37.84|              52.0|     2535.0|         489.0|    1094.0|     514.0|       3.6591|          299200.0|       NEAR BAY|\n",
      "|  -122.25|   37.84|              52.0|     3104.0|         687.0|    1157.0|     647.0|         3.12|          241400.0|       NEAR BAY|\n",
      "|  -122.26|   37.84|              42.0|     2555.0|         665.0|    1206.0|     595.0|       2.0804|          226700.0|       NEAR BAY|\n",
      "|  -122.25|   37.84|              52.0|     3549.0|         707.0|    1551.0|     714.0|       3.6912|          261100.0|       NEAR BAY|\n",
      "+---------+--------+------------------+-----------+--------------+----------+----------+-------------+------------------+---------------+\n",
      "only showing top 10 rows\n",
      "\n"
     ]
    }
   ],
   "source": [
    "# Загружаем данные\n",
    "df = spark.read.load('/datasets/housing.csv', inferSchema=True, format='csv', sep=',', header='true')\n",
    "df.show(10)"
   ]
  },
  {
   "cell_type": "code",
   "execution_count": 5,
   "id": "78f3ada3",
   "metadata": {
    "scrolled": true
   },
   "outputs": [
    {
     "data": {
      "text/html": [
       "<div>\n",
       "<style scoped>\n",
       "    .dataframe tbody tr th:only-of-type {\n",
       "        vertical-align: middle;\n",
       "    }\n",
       "\n",
       "    .dataframe tbody tr th {\n",
       "        vertical-align: top;\n",
       "    }\n",
       "\n",
       "    .dataframe thead th {\n",
       "        text-align: right;\n",
       "    }\n",
       "</style>\n",
       "<table border=\"1\" class=\"dataframe\">\n",
       "  <thead>\n",
       "    <tr style=\"text-align: right;\">\n",
       "      <th></th>\n",
       "      <th>column</th>\n",
       "      <th>type</th>\n",
       "    </tr>\n",
       "  </thead>\n",
       "  <tbody>\n",
       "    <tr>\n",
       "      <th>0</th>\n",
       "      <td>longitude</td>\n",
       "      <td>double</td>\n",
       "    </tr>\n",
       "    <tr>\n",
       "      <th>1</th>\n",
       "      <td>latitude</td>\n",
       "      <td>double</td>\n",
       "    </tr>\n",
       "    <tr>\n",
       "      <th>2</th>\n",
       "      <td>housing_median_age</td>\n",
       "      <td>double</td>\n",
       "    </tr>\n",
       "    <tr>\n",
       "      <th>3</th>\n",
       "      <td>total_rooms</td>\n",
       "      <td>double</td>\n",
       "    </tr>\n",
       "    <tr>\n",
       "      <th>4</th>\n",
       "      <td>total_bedrooms</td>\n",
       "      <td>double</td>\n",
       "    </tr>\n",
       "    <tr>\n",
       "      <th>5</th>\n",
       "      <td>population</td>\n",
       "      <td>double</td>\n",
       "    </tr>\n",
       "    <tr>\n",
       "      <th>6</th>\n",
       "      <td>households</td>\n",
       "      <td>double</td>\n",
       "    </tr>\n",
       "    <tr>\n",
       "      <th>7</th>\n",
       "      <td>median_income</td>\n",
       "      <td>double</td>\n",
       "    </tr>\n",
       "    <tr>\n",
       "      <th>8</th>\n",
       "      <td>median_house_value</td>\n",
       "      <td>double</td>\n",
       "    </tr>\n",
       "    <tr>\n",
       "      <th>9</th>\n",
       "      <td>ocean_proximity</td>\n",
       "      <td>string</td>\n",
       "    </tr>\n",
       "  </tbody>\n",
       "</table>\n",
       "</div>"
      ],
      "text/plain": [
       "               column    type\n",
       "0           longitude  double\n",
       "1            latitude  double\n",
       "2  housing_median_age  double\n",
       "3         total_rooms  double\n",
       "4      total_bedrooms  double\n",
       "5          population  double\n",
       "6          households  double\n",
       "7       median_income  double\n",
       "8  median_house_value  double\n",
       "9     ocean_proximity  string"
      ]
     },
     "execution_count": 5,
     "metadata": {},
     "output_type": "execute_result"
    }
   ],
   "source": [
    "# Проверяем типы данных\n",
    "pd.DataFrame(df.dtypes, columns=['column', 'type'])"
   ]
  },
  {
   "cell_type": "markdown",
   "id": "f9d0c86f",
   "metadata": {},
   "source": [
    "Мы видим, что все данные у нас приведены к корректному типу данных"
   ]
  },
  {
   "cell_type": "markdown",
   "id": "e2fcd654",
   "metadata": {},
   "source": [
    "## Предобработка данных\n",
    "\n",
    "Проверим данные на наличие пропусков, дубликатов, выбросов"
   ]
  },
  {
   "cell_type": "code",
   "execution_count": 6,
   "id": "c43bf690",
   "metadata": {},
   "outputs": [
    {
     "name": "stderr",
     "output_type": "stream",
     "text": [
      "                                                                                \r"
     ]
    },
    {
     "data": {
      "text/html": [
       "<div>\n",
       "<style scoped>\n",
       "    .dataframe tbody tr th:only-of-type {\n",
       "        vertical-align: middle;\n",
       "    }\n",
       "\n",
       "    .dataframe tbody tr th {\n",
       "        vertical-align: top;\n",
       "    }\n",
       "\n",
       "    .dataframe thead th {\n",
       "        text-align: right;\n",
       "    }\n",
       "</style>\n",
       "<table border=\"1\" class=\"dataframe\">\n",
       "  <thead>\n",
       "    <tr style=\"text-align: right;\">\n",
       "      <th></th>\n",
       "      <th>0</th>\n",
       "      <th>1</th>\n",
       "      <th>2</th>\n",
       "      <th>3</th>\n",
       "      <th>4</th>\n",
       "    </tr>\n",
       "  </thead>\n",
       "  <tbody>\n",
       "    <tr>\n",
       "      <th>summary</th>\n",
       "      <td>count</td>\n",
       "      <td>mean</td>\n",
       "      <td>stddev</td>\n",
       "      <td>min</td>\n",
       "      <td>max</td>\n",
       "    </tr>\n",
       "    <tr>\n",
       "      <th>longitude</th>\n",
       "      <td>20640</td>\n",
       "      <td>-119.56970445736148</td>\n",
       "      <td>2.003531723502584</td>\n",
       "      <td>-124.35</td>\n",
       "      <td>-114.31</td>\n",
       "    </tr>\n",
       "    <tr>\n",
       "      <th>latitude</th>\n",
       "      <td>20640</td>\n",
       "      <td>35.6318614341087</td>\n",
       "      <td>2.135952397457101</td>\n",
       "      <td>32.54</td>\n",
       "      <td>41.95</td>\n",
       "    </tr>\n",
       "    <tr>\n",
       "      <th>housing_median_age</th>\n",
       "      <td>20640</td>\n",
       "      <td>28.639486434108527</td>\n",
       "      <td>12.58555761211163</td>\n",
       "      <td>1.0</td>\n",
       "      <td>52.0</td>\n",
       "    </tr>\n",
       "    <tr>\n",
       "      <th>total_rooms</th>\n",
       "      <td>20640</td>\n",
       "      <td>2635.7630813953488</td>\n",
       "      <td>2181.6152515827944</td>\n",
       "      <td>2.0</td>\n",
       "      <td>39320.0</td>\n",
       "    </tr>\n",
       "    <tr>\n",
       "      <th>total_bedrooms</th>\n",
       "      <td>20433</td>\n",
       "      <td>537.8705525375618</td>\n",
       "      <td>421.38507007403115</td>\n",
       "      <td>1.0</td>\n",
       "      <td>6445.0</td>\n",
       "    </tr>\n",
       "    <tr>\n",
       "      <th>population</th>\n",
       "      <td>20640</td>\n",
       "      <td>1425.4767441860465</td>\n",
       "      <td>1132.46212176534</td>\n",
       "      <td>3.0</td>\n",
       "      <td>35682.0</td>\n",
       "    </tr>\n",
       "    <tr>\n",
       "      <th>households</th>\n",
       "      <td>20640</td>\n",
       "      <td>499.5396802325581</td>\n",
       "      <td>382.3297528316098</td>\n",
       "      <td>1.0</td>\n",
       "      <td>6082.0</td>\n",
       "    </tr>\n",
       "    <tr>\n",
       "      <th>median_income</th>\n",
       "      <td>20640</td>\n",
       "      <td>3.8706710029070246</td>\n",
       "      <td>1.899821717945263</td>\n",
       "      <td>0.4999</td>\n",
       "      <td>15.0001</td>\n",
       "    </tr>\n",
       "    <tr>\n",
       "      <th>median_house_value</th>\n",
       "      <td>20640</td>\n",
       "      <td>206855.81690891474</td>\n",
       "      <td>115395.61587441359</td>\n",
       "      <td>14999.0</td>\n",
       "      <td>500001.0</td>\n",
       "    </tr>\n",
       "    <tr>\n",
       "      <th>ocean_proximity</th>\n",
       "      <td>20640</td>\n",
       "      <td>None</td>\n",
       "      <td>None</td>\n",
       "      <td>&lt;1H OCEAN</td>\n",
       "      <td>NEAR OCEAN</td>\n",
       "    </tr>\n",
       "  </tbody>\n",
       "</table>\n",
       "</div>"
      ],
      "text/plain": [
       "                        0                    1                   2          3  \\\n",
       "summary             count                 mean              stddev        min   \n",
       "longitude           20640  -119.56970445736148   2.003531723502584    -124.35   \n",
       "latitude            20640     35.6318614341087   2.135952397457101      32.54   \n",
       "housing_median_age  20640   28.639486434108527   12.58555761211163        1.0   \n",
       "total_rooms         20640   2635.7630813953488  2181.6152515827944        2.0   \n",
       "total_bedrooms      20433    537.8705525375618  421.38507007403115        1.0   \n",
       "population          20640   1425.4767441860465    1132.46212176534        3.0   \n",
       "households          20640    499.5396802325581   382.3297528316098        1.0   \n",
       "median_income       20640   3.8706710029070246   1.899821717945263     0.4999   \n",
       "median_house_value  20640   206855.81690891474  115395.61587441359    14999.0   \n",
       "ocean_proximity     20640                 None                None  <1H OCEAN   \n",
       "\n",
       "                             4  \n",
       "summary                    max  \n",
       "longitude              -114.31  \n",
       "latitude                 41.95  \n",
       "housing_median_age        52.0  \n",
       "total_rooms            39320.0  \n",
       "total_bedrooms          6445.0  \n",
       "population             35682.0  \n",
       "households              6082.0  \n",
       "median_income          15.0001  \n",
       "median_house_value    500001.0  \n",
       "ocean_proximity     NEAR OCEAN  "
      ]
     },
     "execution_count": 6,
     "metadata": {},
     "output_type": "execute_result"
    }
   ],
   "source": [
    "# Выводим общую статистику по датасету\n",
    "df.describe().toPandas().T"
   ]
  },
  {
   "cell_type": "markdown",
   "id": "5b072493",
   "metadata": {},
   "source": [
    "### Проверка на наличие пропусков"
   ]
  },
  {
   "cell_type": "code",
   "execution_count": 7,
   "id": "dfbf98d6",
   "metadata": {
    "scrolled": true
   },
   "outputs": [
    {
     "name": "stdout",
     "output_type": "stream",
     "text": [
      "longitude 0\n",
      "latitude 0\n",
      "housing_median_age 0\n",
      "total_rooms 0\n",
      "total_bedrooms 207\n",
      "population 0\n",
      "households 0\n",
      "median_income 0\n",
      "median_house_value 0\n",
      "ocean_proximity 0\n"
     ]
    }
   ],
   "source": [
    "# Посмотрим на количество пропусков в каждом столбце\n",
    "for column in df.columns:\n",
    "    check_col = F.isnan(F.col(column)) | F.isnull(F.col(column))\n",
    "    print(column, df.filter(check_col).count())"
   ]
  },
  {
   "cell_type": "code",
   "execution_count": 8,
   "id": "b2d46eea",
   "metadata": {},
   "outputs": [
    {
     "name": "stdout",
     "output_type": "stream",
     "text": [
      "+---------+--------+------------------+-----------+--------------+----------+----------+-------------+------------------+---------------+\n",
      "|longitude|latitude|housing_median_age|total_rooms|total_bedrooms|population|households|median_income|median_house_value|ocean_proximity|\n",
      "+---------+--------+------------------+-----------+--------------+----------+----------+-------------+------------------+---------------+\n",
      "|  -122.16|   37.77|              47.0|     1256.0|          null|     570.0|     218.0|        4.375|          161900.0|       NEAR BAY|\n",
      "|  -122.17|   37.75|              38.0|      992.0|          null|     732.0|     259.0|       1.6196|           85100.0|       NEAR BAY|\n",
      "|  -122.28|   37.78|              29.0|     5154.0|          null|    3741.0|    1273.0|       2.5762|          173400.0|       NEAR BAY|\n",
      "|  -122.24|   37.75|              45.0|      891.0|          null|     384.0|     146.0|       4.9489|          247100.0|       NEAR BAY|\n",
      "|   -122.1|   37.69|              41.0|      746.0|          null|     387.0|     161.0|       3.9063|          178400.0|       NEAR BAY|\n",
      "|  -122.14|   37.67|              37.0|     3342.0|          null|    1635.0|     557.0|       4.7933|          186900.0|       NEAR BAY|\n",
      "|  -121.77|   39.66|              20.0|     3759.0|          null|    1705.0|     600.0|        4.712|          158600.0|         INLAND|\n",
      "|  -121.95|   38.03|               5.0|     5526.0|          null|    3207.0|    1012.0|       4.0767|          143100.0|         INLAND|\n",
      "|  -121.98|   37.96|              22.0|     2987.0|          null|    1420.0|     540.0|         3.65|          204100.0|         INLAND|\n",
      "|  -122.01|   37.94|              23.0|     3741.0|          null|    1339.0|     499.0|       6.7061|          322300.0|       NEAR BAY|\n",
      "+---------+--------+------------------+-----------+--------------+----------+----------+-------------+------------------+---------------+\n",
      "only showing top 10 rows\n",
      "\n"
     ]
    }
   ],
   "source": [
    "# Посмотрим на записи, у которых пропуски в столбце total_bedrooms\n",
    "df.select(df.columns).filter(F.isnull(F.col('total_bedrooms'))).show(10)"
   ]
  },
  {
   "cell_type": "markdown",
   "id": "01139ccb",
   "metadata": {},
   "source": [
    "Мы видим, что данные у нас довольно разнятся. Так как это всего 1% от общего числа данных, то заполним данные медианным значением, не разбивая его на группы. Для этого нам нужно найти медианное значение для столбца `total_bedrooms`"
   ]
  },
  {
   "cell_type": "code",
   "execution_count": 9,
   "id": "e6ae0c86",
   "metadata": {},
   "outputs": [
    {
     "name": "stdout",
     "output_type": "stream",
     "text": [
      "longitude 0\n",
      "latitude 0\n",
      "housing_median_age 0\n",
      "total_rooms 0\n",
      "total_bedrooms 0\n",
      "population 0\n",
      "households 0\n",
      "median_income 0\n",
      "median_house_value 0\n",
      "ocean_proximity 0\n",
      "\n",
      "Количество строк: 20640\n"
     ]
    }
   ],
   "source": [
    "# Вычисляем медиану для столбца total_bedrooms\n",
    "median_value = df.approxQuantile('total_bedrooms', [0.5], 0.01)[0]\n",
    "\n",
    "# Заполняем пропуски медианным значением\n",
    "df = df.withColumn(\n",
    "    'total_bedrooms',\n",
    "    F.when(F.col('total_bedrooms').isNull(), median_value).otherwise(F.col('total_bedrooms'))\n",
    ")\n",
    "\n",
    "# Проверяем, корректно ли все удалилось\n",
    "for column in df.columns:\n",
    "    check_col = F.isnan(F.col(column)) | F.isnull(F.col(column))\n",
    "    print(column, df.filter(check_col).count())\n",
    "\n",
    "print(f'\\nКоличество строк: {df.count()}')"
   ]
  },
  {
   "cell_type": "markdown",
   "id": "bad40f63",
   "metadata": {},
   "source": [
    "### Проверка на наличие дубликатов\n",
    "\n",
    "Проверим всю таблицу на наличие явных дубликатов. Так же проверим единственный категориальный столбец на наличие неявных дубликатов."
   ]
  },
  {
   "cell_type": "code",
   "execution_count": 10,
   "id": "3464fba3",
   "metadata": {},
   "outputs": [
    {
     "name": "stderr",
     "output_type": "stream",
     "text": [
      "                                                                                \r"
     ]
    },
    {
     "data": {
      "text/plain": [
       "[Row(ocean_proximity='ISLAND'),\n",
       " Row(ocean_proximity='NEAR OCEAN'),\n",
       " Row(ocean_proximity='NEAR BAY'),\n",
       " Row(ocean_proximity='<1H OCEAN'),\n",
       " Row(ocean_proximity='INLAND')]"
      ]
     },
     "execution_count": 10,
     "metadata": {},
     "output_type": "execute_result"
    }
   ],
   "source": [
    "# Проверяем ocean_proximity на наличие неявных дубликатов\n",
    "df.select('ocean_proximity').distinct().collect()"
   ]
  },
  {
   "cell_type": "markdown",
   "id": "5e1f8b67",
   "metadata": {},
   "source": [
    "Мы видим, что у нас нет неявных дубликатов в `ocean_proximity`"
   ]
  },
  {
   "cell_type": "code",
   "execution_count": 11,
   "id": "cb44386b",
   "metadata": {},
   "outputs": [
    {
     "name": "stdout",
     "output_type": "stream",
     "text": [
      "До удаления явных дубликатов: 20640\n",
      "После удаления явных дубликатов: 20640\n"
     ]
    }
   ],
   "source": [
    "print('До удаления явных дубликатов:', df.count())\n",
    "\n",
    "# Удаляем явные дубликаты\n",
    "df.dropDuplicates()\n",
    "\n",
    "print('После удаления явных дубликатов:', df.count())"
   ]
  },
  {
   "cell_type": "markdown",
   "id": "0c9bf4d9",
   "metadata": {},
   "source": [
    "### Вывод:\n",
    "\n",
    "Мы заменили медианой 207 пропусков, что составляет всего 1% от общего числа данных, тем самым повысив качество данных для обучения модели. \n",
    "\n",
    "В категориальном столбце нет ни одного неявного дубликата. Во всем датасете нет ни одного дубликата."
   ]
  },
  {
   "cell_type": "markdown",
   "id": "53871372",
   "metadata": {
    "id": "53871372"
   },
   "source": [
    "## Подготовка данных\n",
    "\n",
    "Закодируем категориальный столбец, используя OneHotEncoder, а так же разделим данные на тренировочную и тестовую выборки. Так же создадим новый датафрейм, удалив категориальный столбец, чтобы посмотреть, повысится ли качество модели."
   ]
  },
  {
   "cell_type": "code",
   "execution_count": 12,
   "id": "df92e3ec",
   "metadata": {
    "id": "df92e3ec"
   },
   "outputs": [
    {
     "name": "stdout",
     "output_type": "stream",
     "text": [
      "root\n",
      " |-- longitude: double (nullable = true)\n",
      " |-- latitude: double (nullable = true)\n",
      " |-- housing_median_age: double (nullable = true)\n",
      " |-- total_rooms: double (nullable = true)\n",
      " |-- total_bedrooms: double (nullable = true)\n",
      " |-- population: double (nullable = true)\n",
      " |-- households: double (nullable = true)\n",
      " |-- median_income: double (nullable = true)\n",
      " |-- median_house_value: double (nullable = true)\n",
      "\n"
     ]
    }
   ],
   "source": [
    "# Удаляем категориальный столбце\n",
    "df_nums_only = df.drop('ocean_proximity')\n",
    "\n",
    "# Проверяем, удалился ли столбец\n",
    "df_nums_only.printSchema()"
   ]
  },
  {
   "cell_type": "code",
   "execution_count": 13,
   "id": "016fefff",
   "metadata": {},
   "outputs": [],
   "source": [
    "# Определяем столбцы с числовыми значениями\n",
    "num_cols = ['longitude', 'latitude',\n",
    "            'housing_median_age',\n",
    "            'total_rooms', 'total_bedrooms',\n",
    "            'population', 'households',\n",
    "            'median_income']\n",
    "\n",
    "# Определяем столбцы с категориальными значениями\n",
    "cat_cols = ['ocean_proximity']"
   ]
  },
  {
   "cell_type": "code",
   "execution_count": 14,
   "id": "ce8a2872",
   "metadata": {},
   "outputs": [],
   "source": [
    "# Индексируем категориальные признаки\n",
    "indexer = StringIndexer(\n",
    "    inputCol='ocean_proximity',\n",
    "    outputCol='ocean_proximity_index',\n",
    "    handleInvalid='keep'\n",
    ")\n",
    "\n",
    "# Кодируем категориальные признаки\n",
    "ohe = OneHotEncoder(\n",
    "    inputCols=['ocean_proximity_index'],\n",
    "    outputCols=['ocean_proximity_ohe'],\n",
    "    handleInvalid='keep'\n",
    ")\n",
    "\n",
    "# Собираем числовые признаки\n",
    "assembler_numeric = VectorAssembler(\n",
    "    inputCols=num_cols,\n",
    "    outputCol='num_features',\n",
    "    handleInvalid='keep'\n",
    ")\n",
    "\n",
    "# Масштабируем числовые признаки\n",
    "scaler = StandardScaler(\n",
    "    inputCol='num_features',\n",
    "    outputCol='num_features_scaled',\n",
    ")\n",
    "\n",
    "# Собираем все признаки\n",
    "assembler_final = VectorAssembler(\n",
    "    inputCols=['num_features_scaled', 'ocean_proximity_ohe'],\n",
    "    outputCol='features'\n",
    ")\n",
    "\n",
    "# Создаем объект линейной регрессии\n",
    "lr = LinearRegression(\n",
    "    labelCol='median_house_value',\n",
    "    featuresCol='features',\n",
    "    elasticNetParam=0.8,\n",
    "    regParam=0.01\n",
    ")\n",
    "\n",
    "# Собираем пайплайн\n",
    "ohe_pipeline = Pipeline(stages=[\n",
    "    indexer,\n",
    "    ohe,\n",
    "    assembler_numeric,\n",
    "    scaler,\n",
    "    assembler_final,\n",
    "    lr\n",
    "])"
   ]
  },
  {
   "cell_type": "markdown",
   "id": "b7267b4a",
   "metadata": {},
   "source": [
    "Ранее мы решили, что хотим обучить 2 модели, на двух разных данных:\n",
    "1. В которых присутствует категориальный столбец\n",
    "2. В которых отсутствует категориальный столбец"
   ]
  },
  {
   "cell_type": "code",
   "execution_count": 15,
   "id": "82572ef8",
   "metadata": {},
   "outputs": [
    {
     "name": "stderr",
     "output_type": "stream",
     "text": [
      "                                                                                \r"
     ]
    },
    {
     "name": "stdout",
     "output_type": "stream",
     "text": [
      "Количество записей в выборках: 16560 4080\n",
      "root\n",
      " |-- longitude: double (nullable = true)\n",
      " |-- latitude: double (nullable = true)\n",
      " |-- housing_median_age: double (nullable = true)\n",
      " |-- total_rooms: double (nullable = true)\n",
      " |-- total_bedrooms: double (nullable = true)\n",
      " |-- population: double (nullable = true)\n",
      " |-- households: double (nullable = true)\n",
      " |-- median_income: double (nullable = true)\n",
      " |-- median_house_value: double (nullable = true)\n",
      " |-- ocean_proximity: string (nullable = true)\n",
      "\n",
      "None\n",
      "root\n",
      " |-- longitude: double (nullable = true)\n",
      " |-- latitude: double (nullable = true)\n",
      " |-- housing_median_age: double (nullable = true)\n",
      " |-- total_rooms: double (nullable = true)\n",
      " |-- total_bedrooms: double (nullable = true)\n",
      " |-- population: double (nullable = true)\n",
      " |-- households: double (nullable = true)\n",
      " |-- median_income: double (nullable = true)\n",
      " |-- median_house_value: double (nullable = true)\n",
      " |-- ocean_proximity: string (nullable = true)\n",
      "\n",
      "None\n"
     ]
    }
   ],
   "source": [
    "# Разделяем датасет на выборки\n",
    "train_df, test_df = df.randomSplit(weights=[0.8, 0.2], seed=RANDOM_STATE)\n",
    "\n",
    "# Проверяем, корректно ли мы провели разделение\n",
    "print('Количество записей в выборках:', train_df.count(), test_df.count())\n",
    "\n",
    "print(train_df.printSchema())\n",
    "print(test_df.printSchema())"
   ]
  },
  {
   "cell_type": "markdown",
   "id": "b3f1dca2",
   "metadata": {},
   "source": [
    "### Вывод:\n",
    "\n",
    "Мы закодировали числовые значения, используя `StandardScaler` и категориальные значения с помощью `OneHotEncoder`\n",
    "\n",
    "Мы \"создали\" 2 датафрейма: \n",
    "1. Числовые значения, включая категориальный столбец `ocean_proximity`\n",
    "2. Только числовые значения, исключая категориальный столбец `ocean_proximity`\n",
    "\n",
    "Теперь данные готовы для того, чтобы обучать на них модель."
   ]
  },
  {
   "cell_type": "markdown",
   "id": "9f0a82f3",
   "metadata": {
    "id": "9f0a82f3"
   },
   "source": [
    "## Обучение моделей"
   ]
  },
  {
   "cell_type": "markdown",
   "id": "c5d2770c",
   "metadata": {},
   "source": [
    "Обучим модель на данных с категориальным признаком"
   ]
  },
  {
   "cell_type": "code",
   "execution_count": 16,
   "id": "bddb08c4",
   "metadata": {
    "id": "bddb08c4"
   },
   "outputs": [
    {
     "name": "stderr",
     "output_type": "stream",
     "text": [
      "25/04/22 14:06:31 WARN BLAS: Failed to load implementation from: com.github.fommil.netlib.NativeSystemBLAS\n",
      "25/04/22 14:06:31 WARN BLAS: Failed to load implementation from: com.github.fommil.netlib.NativeRefBLAS\n",
      "                                                                                \r"
     ]
    },
    {
     "name": "stdout",
     "output_type": "stream",
     "text": [
      "+---------+--------+------------------+-----------+--------------+----------+----------+-------------+------------------+---------------+---------------------+-------------------+--------------------+--------------------+--------------------+------------------+\n",
      "|longitude|latitude|housing_median_age|total_rooms|total_bedrooms|population|households|median_income|median_house_value|ocean_proximity|ocean_proximity_index|ocean_proximity_ohe|        num_features| num_features_scaled|            features|        prediction|\n",
      "+---------+--------+------------------+-----------+--------------+----------+----------+-------------+------------------+---------------+---------------------+-------------------+--------------------+--------------------+--------------------+------------------+\n",
      "|   -124.3|   41.84|              17.0|     2677.0|         531.0|    1244.0|     456.0|       3.0313|          103600.0|     NEAR OCEAN|                  2.0|      (6,[2],[1.0])|[-124.3,41.84,17....|[-61.907050013920...|[-61.907050013920...| 150555.4682836309|\n",
      "|  -124.23|   40.54|              52.0|     2694.0|         453.0|    1152.0|     435.0|       3.0806|          106700.0|     NEAR OCEAN|                  2.0|      (6,[2],[1.0])|[-124.23,40.54,52...|[-61.872186832094...|[-61.872186832094...| 217651.2606560262|\n",
      "|  -124.23|   41.75|              11.0|     3159.0|         616.0|    1343.0|     479.0|       2.4805|           73200.0|     NEAR OCEAN|                  2.0|      (6,[2],[1.0])|[-124.23,41.75,11...|[-61.872186832094...|[-61.872186832094...| 125160.2689538654|\n",
      "|  -124.19|   40.73|              21.0|     5694.0|        1056.0|    2907.0|     972.0|       3.5363|           90100.0|     NEAR OCEAN|                  2.0|      (6,[2],[1.0])|[-124.19,40.73,21...|[-61.852265013907...|[-61.852265013907...|195031.31823484972|\n",
      "|  -124.18|   40.78|              34.0|     1592.0|         364.0|     950.0|     317.0|       2.1607|           67000.0|     NEAR OCEAN|                  2.0|      (6,[2],[1.0])|[-124.18,40.78,34...|[-61.847284559361...|[-61.847284559361...| 152294.1215963601|\n",
      "+---------+--------+------------------+-----------+--------------+----------+----------+-------------+------------------+---------------+---------------------+-------------------+--------------------+--------------------+--------------------+------------------+\n",
      "only showing top 5 rows\n",
      "\n"
     ]
    }
   ],
   "source": [
    "# Обучаем модель\n",
    "ohe_model = ohe_pipeline.fit(train_df)\n",
    "\n",
    "# Делаем предсказание\n",
    "ohe_prediction = ohe_model.transform(test_df)\n",
    "\n",
    "# Выводим датафрейм\n",
    "ohe_prediction.show(5)"
   ]
  },
  {
   "cell_type": "code",
   "execution_count": 17,
   "id": "4f837f8e",
   "metadata": {},
   "outputs": [
    {
     "name": "stdout",
     "output_type": "stream",
     "text": [
      "RMSE: 70790.40\n",
      "MAE: 50862.79\n",
      "R2: 0.64\n"
     ]
    }
   ],
   "source": [
    "# RMSE\n",
    "evaluator_rmse = RegressionEvaluator(\n",
    "    labelCol=\"median_house_value\",\n",
    "    predictionCol=\"prediction\",\n",
    "    metricName=\"rmse\"\n",
    ")\n",
    "rmse = evaluator_rmse.evaluate(ohe_prediction)\n",
    "\n",
    "# MAE\n",
    "evaluator_mae = RegressionEvaluator(\n",
    "    labelCol=\"median_house_value\",\n",
    "    predictionCol=\"prediction\",\n",
    "    metricName=\"mae\"\n",
    ")\n",
    "mae = evaluator_mae.evaluate(ohe_prediction)\n",
    "\n",
    "# R2\n",
    "evaluator_r2 = RegressionEvaluator(\n",
    "    labelCol=\"median_house_value\",\n",
    "    predictionCol=\"prediction\",\n",
    "    metricName=\"r2\"\n",
    ")\n",
    "r2 = evaluator_r2.evaluate(ohe_prediction)\n",
    "\n",
    "print(f\"RMSE: {rmse:.2f}\")\n",
    "print(f\"MAE: {mae:.2f}\")\n",
    "print(f\"R2: {r2:.2f}\")"
   ]
  },
  {
   "cell_type": "markdown",
   "id": "ec31289b",
   "metadata": {},
   "source": [
    "Метрики не слишком хорошие. При предсказании цены модель в среднем ошибается на 50 000 у.е. Метрика R2 Так же довольно далека от единицы."
   ]
  },
  {
   "cell_type": "markdown",
   "id": "097cf1b2",
   "metadata": {},
   "source": [
    "Теперь обучим модель на данных, в которых нет категориального столбца."
   ]
  },
  {
   "cell_type": "code",
   "execution_count": 18,
   "id": "5f996816",
   "metadata": {},
   "outputs": [],
   "source": [
    "# Обновляем сборщик всех признаков\n",
    "assembler_final = VectorAssembler(\n",
    "    inputCols=['num_features_scaled'],\n",
    "    outputCol='features'\n",
    ")\n",
    "\n",
    "\n",
    "num_pipeline = Pipeline(stages=[\n",
    "    indexer,\n",
    "    assembler_numeric,\n",
    "    scaler,\n",
    "    assembler_final,\n",
    "    lr\n",
    "])"
   ]
  },
  {
   "cell_type": "code",
   "execution_count": 19,
   "id": "9e148a16",
   "metadata": {},
   "outputs": [
    {
     "name": "stdout",
     "output_type": "stream",
     "text": [
      "+---------+--------+------------------+-----------+--------------+----------+----------+-------------+------------------+---------------+---------------------+--------------------+--------------------+--------------------+------------------+\n",
      "|longitude|latitude|housing_median_age|total_rooms|total_bedrooms|population|households|median_income|median_house_value|ocean_proximity|ocean_proximity_index|        num_features| num_features_scaled|            features|        prediction|\n",
      "+---------+--------+------------------+-----------+--------------+----------+----------+-------------+------------------+---------------+---------------------+--------------------+--------------------+--------------------+------------------+\n",
      "|   -124.3|   41.84|              17.0|     2677.0|         531.0|    1244.0|     456.0|       3.0313|          103600.0|     NEAR OCEAN|                  2.0|[-124.3,41.84,17....|[-61.907050013920...|[-61.907050013920...|100769.79764381889|\n",
      "|  -124.23|   40.54|              52.0|     2694.0|         453.0|    1152.0|     435.0|       3.0806|          106700.0|     NEAR OCEAN|                  2.0|[-124.23,40.54,52...|[-61.872186832094...|[-61.872186832094...|190795.58256143192|\n",
      "|  -124.23|   41.75|              11.0|     3159.0|         616.0|    1343.0|     479.0|       2.4805|           73200.0|     NEAR OCEAN|                  2.0|[-124.23,41.75,11...|[-61.872186832094...|[-61.872186832094...| 74697.00858799415|\n",
      "|  -124.19|   40.73|              21.0|     5694.0|        1056.0|    2907.0|     972.0|       3.5363|           90100.0|     NEAR OCEAN|                  2.0|[-124.19,40.73,21...|[-61.852265013907...|[-61.852265013907...| 162325.8239094708|\n",
      "|  -124.18|   40.78|              34.0|     1592.0|         364.0|     950.0|     317.0|       2.1607|           67000.0|     NEAR OCEAN|                  2.0|[-124.18,40.78,34...|[-61.847284559361...|[-61.847284559361...|119447.38483096659|\n",
      "+---------+--------+------------------+-----------+--------------+----------+----------+-------------+------------------+---------------+---------------------+--------------------+--------------------+--------------------+------------------+\n",
      "only showing top 5 rows\n",
      "\n"
     ]
    }
   ],
   "source": [
    "# Обучаем модель\n",
    "num_model = num_pipeline.fit(train_df)\n",
    "\n",
    "# Делаем предсказание\n",
    "num_prediction = num_model.transform(test_df)\n",
    "\n",
    "# Выводим датафрейм\n",
    "num_prediction.show(5)"
   ]
  },
  {
   "cell_type": "code",
   "execution_count": 20,
   "id": "bcec362b",
   "metadata": {},
   "outputs": [
    {
     "name": "stdout",
     "output_type": "stream",
     "text": [
      "RMSE: 71795.68\n",
      "MAE: 51802.53\n",
      "R2: 0.63\n"
     ]
    }
   ],
   "source": [
    "# RMSE\n",
    "evaluator_rmse = RegressionEvaluator(\n",
    "    labelCol=\"median_house_value\",\n",
    "    predictionCol=\"prediction\",\n",
    "    metricName=\"rmse\"\n",
    ")\n",
    "rmse = evaluator_rmse.evaluate(num_prediction)\n",
    "\n",
    "# MAE\n",
    "evaluator_mae = RegressionEvaluator(\n",
    "    labelCol=\"median_house_value\",\n",
    "    predictionCol=\"prediction\",\n",
    "    metricName=\"mae\"\n",
    ")\n",
    "mae = evaluator_mae.evaluate(num_prediction)\n",
    "\n",
    "# R2\n",
    "evaluator_r2 = RegressionEvaluator(\n",
    "    labelCol=\"median_house_value\",\n",
    "    predictionCol=\"prediction\",\n",
    "    metricName=\"r2\"\n",
    ")\n",
    "r2 = evaluator_r2.evaluate(num_prediction)\n",
    "\n",
    "print(f\"RMSE: {rmse:.2f}\")\n",
    "print(f\"MAE: {mae:.2f}\")\n",
    "print(f\"R2: {r2:.2f}\")"
   ]
  },
  {
   "cell_type": "markdown",
   "id": "29bed7e9",
   "metadata": {},
   "source": [
    "При обучении модели на данных без категориального столбца, метрики чуть хуже. При предсказании цены модель в среднем ошибается на 51 000 у.е. Метрика R2 понизилась на 0.01"
   ]
  },
  {
   "cell_type": "code",
   "execution_count": 21,
   "id": "b39a68b5",
   "metadata": {},
   "outputs": [],
   "source": [
    "# Завершаем сессию\n",
    "spark.stop()"
   ]
  },
  {
   "cell_type": "markdown",
   "id": "66ce4b82",
   "metadata": {},
   "source": [
    "### Вывод:\n",
    "\n",
    "Модель, обученная на данных с категориальным признаком `ocean_proximity` показала себя чуть лучше, чем модель, обученная только на числовых значениях. Метрики для первой модели следующие:\n",
    "- `RMSE`: 68627.54\n",
    "- `MAE`: 50036.27\n",
    "- `R2`: 0.64\n",
    "\n",
    "Это означает, что модель в среднем ошибается с предсказанием цены дома на 50 000 у.е.\n"
   ]
  },
  {
   "cell_type": "markdown",
   "id": "757fd103",
   "metadata": {
    "id": "757fd103"
   },
   "source": [
    "## Общий вывод:\n",
    "\n",
    "В ходе проекта была построена модель линейной регрессии для предсказания медианной стоимости жилья в Калифорнии на основе данных 1990 года. Лучший результат показала модель, включающая категориальный признак `ocean_proximity`, с метриками:\n",
    "- **RMSE**: 68 627,54 (средняя ошибка предсказания в 68 627,54 у.е.),\n",
    "- **MAE**: 50 036,27 (средняя абсолютная ошибка в 50 036,27 у.е.),\n",
    "- **R²**: 0,64 (64% дисперсии объясняется моделью).\n",
    "\n",
    "Это означает, что модель улавливает умеренную связь между признаками и целевой переменной, но часть вариативности остаётся необъяснённой, что может быть связано с нелинейными зависимостями или отсутствием значимых факторов.\n",
    "\n",
    "Возможно, можно повысить метрику, проведя feature engineering,\n",
    "\n",
    "---\n",
    "\n",
    "**Проделанная работа:**\n",
    "1. **Предобработка данных**:\n",
    "   - Заполнены пропуски в столбце `total_bedrooms` медианным значением (1% данных)\n",
    "   - Данные проверены на наличие дубликатов\n",
    "\n",
    "2. **Кодирование признаков**:\n",
    "   - Категориальный признак `ocean_proximity` преобразован через `StringIndexer` и `OneHotEncoder` для включения в модель\n",
    "   - Числовые признаки масштабированы с помощью `StandardScaler` для улучшения сходимости модели\n",
    "\n",
    "3. **Обучение моделей**:\n",
    "   - Построены 2 модели:\n",
    "     - С категориальным признаком (`ocean_proximity`).\n",
    "     - Без категориального признака.\n",
    "   - Показано, что учёт близости к океану чут-чуть улучшает метрики"
   ]
  }
 ],
 "metadata": {
  "ExecuteTimeLog": [
   {
    "duration": 427,
    "start_time": "2025-04-18T12:19:47.548Z"
   },
   {
    "duration": 8,
    "start_time": "2025-04-18T12:19:59.718Z"
   },
   {
    "duration": 757,
    "start_time": "2025-04-21T07:56:29.629Z"
   },
   {
    "duration": 9,
    "start_time": "2025-04-21T07:56:46.705Z"
   },
   {
    "duration": 90,
    "start_time": "2025-04-21T08:00:33.929Z"
   },
   {
    "duration": 16374,
    "start_time": "2025-04-21T08:00:38.465Z"
   },
   {
    "duration": 8823,
    "start_time": "2025-04-21T08:00:57.231Z"
   },
   {
    "duration": 907,
    "start_time": "2025-04-21T08:01:12.236Z"
   },
   {
    "duration": 12,
    "start_time": "2025-04-21T08:02:12.865Z"
   },
   {
    "duration": 85,
    "start_time": "2025-04-21T08:02:18.752Z"
   },
   {
    "duration": 8,
    "start_time": "2025-04-21T08:02:26.738Z"
   },
   {
    "duration": 6,
    "start_time": "2025-04-21T08:02:34.225Z"
   },
   {
    "duration": 11,
    "start_time": "2025-04-21T08:02:39.386Z"
   },
   {
    "duration": 4295,
    "start_time": "2025-04-21T08:34:33.686Z"
   },
   {
    "duration": 4299,
    "start_time": "2025-04-21T08:35:08.149Z"
   },
   {
    "duration": 768,
    "start_time": "2025-04-21T08:37:47.852Z"
   },
   {
    "duration": 39,
    "start_time": "2025-04-21T08:45:31.359Z"
   },
   {
    "duration": 36,
    "start_time": "2025-04-21T08:46:11.782Z"
   },
   {
    "duration": 13,
    "start_time": "2025-04-21T08:46:19.363Z"
   },
   {
    "duration": 14,
    "start_time": "2025-04-21T08:47:50.585Z"
   },
   {
    "duration": 202,
    "start_time": "2025-04-21T08:47:55.441Z"
   },
   {
    "duration": 115,
    "start_time": "2025-04-21T08:48:04.481Z"
   },
   {
    "duration": 190,
    "start_time": "2025-04-21T08:48:14.955Z"
   },
   {
    "duration": 9,
    "start_time": "2025-04-21T08:54:10.461Z"
   },
   {
    "duration": 23,
    "start_time": "2025-04-21T08:54:26.451Z"
   },
   {
    "duration": 27,
    "start_time": "2025-04-21T08:54:32.286Z"
   },
   {
    "duration": 10,
    "start_time": "2025-04-21T08:54:40.799Z"
   },
   {
    "duration": 34,
    "start_time": "2025-04-21T08:55:01.905Z"
   },
   {
    "duration": 34,
    "start_time": "2025-04-21T08:55:28.312Z"
   },
   {
    "duration": 313,
    "start_time": "2025-04-21T08:55:34.442Z"
   },
   {
    "duration": 298,
    "start_time": "2025-04-21T08:55:41.250Z"
   },
   {
    "duration": 1343,
    "start_time": "2025-04-21T11:39:36.109Z"
   },
   {
    "duration": 7,
    "start_time": "2025-04-21T11:39:37.454Z"
   },
   {
    "duration": 16186,
    "start_time": "2025-04-21T11:39:37.465Z"
   },
   {
    "duration": 8500,
    "start_time": "2025-04-21T11:39:53.654Z"
   },
   {
    "duration": 120,
    "start_time": "2025-04-21T11:40:02.157Z"
   },
   {
    "duration": 5399,
    "start_time": "2025-04-21T11:40:02.279Z"
   },
   {
    "duration": 4299,
    "start_time": "2025-04-21T11:40:07.737Z"
   },
   {
    "duration": 409,
    "start_time": "2025-04-21T11:40:12.038Z"
   },
   {
    "duration": 231,
    "start_time": "2025-04-21T11:40:21.148Z"
   },
   {
    "duration": 1542,
    "start_time": "2025-04-21T11:41:05.425Z"
   },
   {
    "duration": 2802,
    "start_time": "2025-04-21T11:51:06.874Z"
   },
   {
    "duration": 22,
    "start_time": "2025-04-21T11:51:18.316Z"
   },
   {
    "duration": 4050,
    "start_time": "2025-04-21T11:51:22.025Z"
   },
   {
    "duration": 86,
    "start_time": "2025-04-21T11:51:51.139Z"
   },
   {
    "duration": 2920,
    "start_time": "2025-04-21T11:51:54.021Z"
   },
   {
    "duration": 3247,
    "start_time": "2025-04-21T11:52:27.900Z"
   },
   {
    "duration": 115,
    "start_time": "2025-04-21T11:52:42.357Z"
   },
   {
    "duration": 3107,
    "start_time": "2025-04-21T11:52:50.540Z"
   },
   {
    "duration": 2975,
    "start_time": "2025-04-21T11:54:12.372Z"
   },
   {
    "duration": 14,
    "start_time": "2025-04-21T12:02:46.996Z"
   },
   {
    "duration": 11,
    "start_time": "2025-04-21T12:03:50.480Z"
   },
   {
    "duration": 289,
    "start_time": "2025-04-21T12:04:31.989Z"
   },
   {
    "duration": 1308,
    "start_time": "2025-04-21T12:05:31.245Z"
   },
   {
    "duration": 9,
    "start_time": "2025-04-21T12:05:39.238Z"
   },
   {
    "duration": 2258,
    "start_time": "2025-04-21T12:06:06.699Z"
   },
   {
    "duration": 1877,
    "start_time": "2025-04-21T12:06:14.738Z"
   },
   {
    "duration": 218,
    "start_time": "2025-04-21T12:06:19.368Z"
   },
   {
    "duration": 9,
    "start_time": "2025-04-21T12:12:08.932Z"
   },
   {
    "duration": 109,
    "start_time": "2025-04-21T12:17:11.205Z"
   },
   {
    "duration": 19,
    "start_time": "2025-04-21T12:17:30.582Z"
   },
   {
    "duration": 14,
    "start_time": "2025-04-21T12:17:57.093Z"
   },
   {
    "duration": 22,
    "start_time": "2025-04-21T12:18:10.534Z"
   },
   {
    "duration": 159,
    "start_time": "2025-04-21T12:19:03.584Z"
   },
   {
    "duration": 2550,
    "start_time": "2025-04-21T12:19:07.307Z"
   },
   {
    "duration": 364,
    "start_time": "2025-04-21T12:21:01.102Z"
   },
   {
    "duration": 214,
    "start_time": "2025-04-21T12:22:13.173Z"
   },
   {
    "duration": 1262,
    "start_time": "2025-04-21T12:22:37.992Z"
   },
   {
    "duration": 6,
    "start_time": "2025-04-21T12:22:39.256Z"
   },
   {
    "duration": 15684,
    "start_time": "2025-04-21T12:22:39.263Z"
   },
   {
    "duration": 9513,
    "start_time": "2025-04-21T12:22:54.949Z"
   },
   {
    "duration": 172,
    "start_time": "2025-04-21T12:23:04.466Z"
   },
   {
    "duration": 4327,
    "start_time": "2025-04-21T12:23:04.641Z"
   },
   {
    "duration": 4321,
    "start_time": "2025-04-21T12:23:08.970Z"
   },
   {
    "duration": 446,
    "start_time": "2025-04-21T12:23:13.293Z"
   },
   {
    "duration": 4426,
    "start_time": "2025-04-21T12:23:13.741Z"
   },
   {
    "duration": 3882,
    "start_time": "2025-04-21T12:23:18.169Z"
   },
   {
    "duration": 542,
    "start_time": "2025-04-21T12:23:22.053Z"
   },
   {
    "duration": 73,
    "start_time": "2025-04-21T12:29:40.138Z"
   },
   {
    "duration": 115,
    "start_time": "2025-04-21T12:37:18.699Z"
   },
   {
    "duration": 5,
    "start_time": "2025-04-21T12:37:36.656Z"
   },
   {
    "duration": 9,
    "start_time": "2025-04-21T12:38:38.662Z"
   },
   {
    "duration": 38,
    "start_time": "2025-04-21T12:46:19.122Z"
   },
   {
    "duration": 21,
    "start_time": "2025-04-21T12:47:12.948Z"
   },
   {
    "duration": 136,
    "start_time": "2025-04-21T12:47:19.990Z"
   },
   {
    "duration": 186,
    "start_time": "2025-04-21T12:49:16.785Z"
   },
   {
    "duration": 2119,
    "start_time": "2025-04-21T13:11:39.829Z"
   },
   {
    "duration": 48,
    "start_time": "2025-04-21T16:08:11.310Z"
   },
   {
    "duration": 1204,
    "start_time": "2025-04-21T16:08:12.766Z"
   },
   {
    "duration": 453,
    "start_time": "2025-04-21T16:08:18.488Z"
   },
   {
    "duration": 378,
    "start_time": "2025-04-21T16:08:32.670Z"
   },
   {
    "duration": 731,
    "start_time": "2025-04-21T16:08:46.556Z"
   },
   {
    "duration": 31,
    "start_time": "2025-04-21T16:18:20.776Z"
   },
   {
    "duration": 54,
    "start_time": "2025-04-22T02:42:53.105Z"
   },
   {
    "duration": 1546,
    "start_time": "2025-04-22T02:43:05.791Z"
   },
   {
    "duration": 5,
    "start_time": "2025-04-22T02:43:07.340Z"
   },
   {
    "duration": 15477,
    "start_time": "2025-04-22T02:43:07.346Z"
   },
   {
    "duration": 10105,
    "start_time": "2025-04-22T02:43:22.825Z"
   },
   {
    "duration": 181,
    "start_time": "2025-04-22T02:43:32.933Z"
   },
   {
    "duration": 4191,
    "start_time": "2025-04-22T02:43:33.116Z"
   },
   {
    "duration": 4211,
    "start_time": "2025-04-22T02:43:37.309Z"
   },
   {
    "duration": 423,
    "start_time": "2025-04-22T02:43:41.522Z"
   },
   {
    "duration": 5059,
    "start_time": "2025-04-22T02:43:41.947Z"
   },
   {
    "duration": 4098,
    "start_time": "2025-04-22T02:43:47.008Z"
   },
   {
    "duration": 616,
    "start_time": "2025-04-22T02:43:51.108Z"
   },
   {
    "duration": 5,
    "start_time": "2025-04-22T02:43:51.725Z"
   },
   {
    "duration": 73,
    "start_time": "2025-04-22T02:43:51.732Z"
   },
   {
    "duration": 2039,
    "start_time": "2025-04-22T02:43:51.808Z"
   },
   {
    "duration": 157,
    "start_time": "2025-04-22T02:43:53.849Z"
   },
   {
    "duration": 1640,
    "start_time": "2025-04-22T02:43:54.008Z"
   },
   {
    "duration": 27,
    "start_time": "2025-04-22T02:43:55.706Z"
   },
   {
    "duration": 1052,
    "start_time": "2025-04-22T02:45:58.269Z"
   },
   {
    "duration": 84,
    "start_time": "2025-04-22T02:58:17.109Z"
   },
   {
    "duration": 128,
    "start_time": "2025-04-22T02:58:51.922Z"
   },
   {
    "duration": 11,
    "start_time": "2025-04-22T03:01:50.513Z"
   },
   {
    "duration": 11,
    "start_time": "2025-04-22T03:03:06.293Z"
   },
   {
    "duration": 160,
    "start_time": "2025-04-22T03:03:46.418Z"
   },
   {
    "duration": 1139,
    "start_time": "2025-04-22T03:08:15.300Z"
   },
   {
    "duration": 1321,
    "start_time": "2025-04-22T03:08:35.888Z"
   },
   {
    "duration": 6,
    "start_time": "2025-04-22T03:08:37.211Z"
   },
   {
    "duration": 15524,
    "start_time": "2025-04-22T03:08:37.218Z"
   },
   {
    "duration": 9680,
    "start_time": "2025-04-22T03:08:52.744Z"
   },
   {
    "duration": 107,
    "start_time": "2025-04-22T03:09:02.426Z"
   },
   {
    "duration": 4312,
    "start_time": "2025-04-22T03:09:02.535Z"
   },
   {
    "duration": 4505,
    "start_time": "2025-04-22T03:09:06.849Z"
   },
   {
    "duration": 474,
    "start_time": "2025-04-22T03:09:11.357Z"
   },
   {
    "duration": 4784,
    "start_time": "2025-04-22T03:09:11.833Z"
   },
   {
    "duration": 3899,
    "start_time": "2025-04-22T03:09:16.619Z"
   },
   {
    "duration": 591,
    "start_time": "2025-04-22T03:09:20.521Z"
   },
   {
    "duration": 5,
    "start_time": "2025-04-22T03:09:21.114Z"
   },
   {
    "duration": 20,
    "start_time": "2025-04-22T03:09:21.120Z"
   },
   {
    "duration": 1669,
    "start_time": "2025-04-22T03:09:21.143Z"
   },
   {
    "duration": 1615,
    "start_time": "2025-04-22T03:09:22.814Z"
   },
   {
    "duration": 103,
    "start_time": "2025-04-22T03:09:24.431Z"
   },
   {
    "duration": 2193,
    "start_time": "2025-04-22T03:09:24.536Z"
   },
   {
    "duration": 95,
    "start_time": "2025-04-22T03:09:26.731Z"
   },
   {
    "duration": 996,
    "start_time": "2025-04-22T03:09:26.828Z"
   },
   {
    "duration": 1324,
    "start_time": "2025-04-22T03:14:14.015Z"
   },
   {
    "duration": 5,
    "start_time": "2025-04-22T03:14:15.341Z"
   },
   {
    "duration": 15689,
    "start_time": "2025-04-22T03:14:15.348Z"
   },
   {
    "duration": 9204,
    "start_time": "2025-04-22T03:14:31.039Z"
   },
   {
    "duration": 111,
    "start_time": "2025-04-22T03:14:40.307Z"
   },
   {
    "duration": 4589,
    "start_time": "2025-04-22T03:14:40.420Z"
   },
   {
    "duration": 4008,
    "start_time": "2025-04-22T03:14:45.010Z"
   },
   {
    "duration": 399,
    "start_time": "2025-04-22T03:14:49.020Z"
   },
   {
    "duration": 4788,
    "start_time": "2025-04-22T03:14:49.421Z"
   },
   {
    "duration": 4296,
    "start_time": "2025-04-22T03:14:54.212Z"
   },
   {
    "duration": 614,
    "start_time": "2025-04-22T03:14:58.511Z"
   },
   {
    "duration": 5,
    "start_time": "2025-04-22T03:14:59.127Z"
   },
   {
    "duration": 74,
    "start_time": "2025-04-22T03:14:59.134Z"
   },
   {
    "duration": 1721,
    "start_time": "2025-04-22T03:14:59.210Z"
   },
   {
    "duration": 92,
    "start_time": "2025-04-22T03:15:00.934Z"
   },
   {
    "duration": 0,
    "start_time": "2025-04-22T03:15:01.028Z"
   },
   {
    "duration": 0,
    "start_time": "2025-04-22T03:15:01.029Z"
   },
   {
    "duration": 0,
    "start_time": "2025-04-22T03:15:01.031Z"
   },
   {
    "duration": 0,
    "start_time": "2025-04-22T03:15:01.032Z"
   },
   {
    "duration": 1371,
    "start_time": "2025-04-22T03:43:14.962Z"
   },
   {
    "duration": 5,
    "start_time": "2025-04-22T03:43:16.334Z"
   },
   {
    "duration": 15794,
    "start_time": "2025-04-22T03:43:16.341Z"
   },
   {
    "duration": 10678,
    "start_time": "2025-04-22T03:43:32.138Z"
   },
   {
    "duration": 126,
    "start_time": "2025-04-22T03:43:42.819Z"
   },
   {
    "duration": 5174,
    "start_time": "2025-04-22T03:43:42.947Z"
   },
   {
    "duration": 4431,
    "start_time": "2025-04-22T03:43:48.123Z"
   },
   {
    "duration": 465,
    "start_time": "2025-04-22T03:43:52.557Z"
   },
   {
    "duration": 5416,
    "start_time": "2025-04-22T03:43:53.024Z"
   },
   {
    "duration": 4100,
    "start_time": "2025-04-22T03:43:58.442Z"
   },
   {
    "duration": 610,
    "start_time": "2025-04-22T03:44:02.605Z"
   },
   {
    "duration": 5,
    "start_time": "2025-04-22T03:44:03.217Z"
   },
   {
    "duration": 9,
    "start_time": "2025-04-22T03:44:03.225Z"
   },
   {
    "duration": 69,
    "start_time": "2025-04-22T03:44:03.236Z"
   },
   {
    "duration": 2015,
    "start_time": "2025-04-22T03:44:03.308Z"
   },
   {
    "duration": 0,
    "start_time": "2025-04-22T03:44:05.324Z"
   },
   {
    "duration": 0,
    "start_time": "2025-04-22T03:44:05.326Z"
   },
   {
    "duration": 0,
    "start_time": "2025-04-22T03:44:05.327Z"
   },
   {
    "duration": 0,
    "start_time": "2025-04-22T03:44:05.328Z"
   },
   {
    "duration": 684,
    "start_time": "2025-04-22T03:51:26.329Z"
   },
   {
    "duration": 2268,
    "start_time": "2025-04-22T03:51:43.185Z"
   },
   {
    "duration": 46,
    "start_time": "2025-04-22T03:53:48.811Z"
   },
   {
    "duration": 1847,
    "start_time": "2025-04-22T03:53:49.791Z"
   },
   {
    "duration": 2507,
    "start_time": "2025-04-22T03:56:05.749Z"
   },
   {
    "duration": 2989,
    "start_time": "2025-04-22T03:56:54.143Z"
   },
   {
    "duration": 17,
    "start_time": "2025-04-22T03:59:14.973Z"
   },
   {
    "duration": 32,
    "start_time": "2025-04-22T03:59:30.336Z"
   },
   {
    "duration": 3355,
    "start_time": "2025-04-22T03:59:31.987Z"
   },
   {
    "duration": 1873,
    "start_time": "2025-04-22T04:51:04.818Z"
   },
   {
    "duration": 1491,
    "start_time": "2025-04-22T04:51:38.015Z"
   },
   {
    "duration": 18,
    "start_time": "2025-04-22T04:52:54.154Z"
   },
   {
    "duration": 1499,
    "start_time": "2025-04-22T04:53:07.152Z"
   },
   {
    "duration": 1472,
    "start_time": "2025-04-22T04:59:39.039Z"
   },
   {
    "duration": 1046,
    "start_time": "2025-04-22T05:00:05.796Z"
   },
   {
    "duration": 1196,
    "start_time": "2025-04-22T05:00:21.138Z"
   },
   {
    "duration": 803,
    "start_time": "2025-04-22T05:01:18.928Z"
   },
   {
    "duration": 3808,
    "start_time": "2025-04-22T05:02:23.733Z"
   },
   {
    "duration": 1061,
    "start_time": "2025-04-22T05:03:13.476Z"
   },
   {
    "duration": 1412,
    "start_time": "2025-04-22T05:06:54.632Z"
   },
   {
    "duration": 657,
    "start_time": "2025-04-22T05:11:47.687Z"
   },
   {
    "duration": 1106,
    "start_time": "2025-04-22T05:14:20.522Z"
   },
   {
    "duration": 10,
    "start_time": "2025-04-22T05:19:21.331Z"
   },
   {
    "duration": 1272,
    "start_time": "2025-04-22T05:20:09.347Z"
   },
   {
    "duration": 6,
    "start_time": "2025-04-22T05:20:10.622Z"
   },
   {
    "duration": 15499,
    "start_time": "2025-04-22T05:20:10.630Z"
   },
   {
    "duration": 9782,
    "start_time": "2025-04-22T05:20:26.132Z"
   },
   {
    "duration": 108,
    "start_time": "2025-04-22T05:20:35.917Z"
   },
   {
    "duration": 4283,
    "start_time": "2025-04-22T05:20:36.027Z"
   },
   {
    "duration": 4327,
    "start_time": "2025-04-22T05:20:40.312Z"
   },
   {
    "duration": 491,
    "start_time": "2025-04-22T05:20:44.642Z"
   },
   {
    "duration": 4582,
    "start_time": "2025-04-22T05:20:45.135Z"
   },
   {
    "duration": 3621,
    "start_time": "2025-04-22T05:20:49.719Z"
   },
   {
    "duration": 662,
    "start_time": "2025-04-22T05:20:53.343Z"
   },
   {
    "duration": 13,
    "start_time": "2025-04-22T05:20:54.007Z"
   },
   {
    "duration": 3,
    "start_time": "2025-04-22T05:20:54.025Z"
   },
   {
    "duration": 3710,
    "start_time": "2025-04-22T05:20:54.031Z"
   },
   {
    "duration": 2687,
    "start_time": "2025-04-22T05:20:57.743Z"
   },
   {
    "duration": 1181,
    "start_time": "2025-04-22T05:21:00.432Z"
   },
   {
    "duration": 4413,
    "start_time": "2025-04-22T05:21:01.615Z"
   },
   {
    "duration": 1445,
    "start_time": "2025-04-22T05:39:36.472Z"
   },
   {
    "duration": 3221,
    "start_time": "2025-04-22T05:41:50.100Z"
   },
   {
    "duration": 2495,
    "start_time": "2025-04-22T05:42:35.786Z"
   },
   {
    "duration": 2069,
    "start_time": "2025-04-22T05:42:44.902Z"
   },
   {
    "duration": 416,
    "start_time": "2025-04-22T05:48:28.007Z"
   },
   {
    "duration": 233,
    "start_time": "2025-04-22T05:48:31.984Z"
   },
   {
    "duration": 187,
    "start_time": "2025-04-22T05:48:41.618Z"
   },
   {
    "duration": 1327,
    "start_time": "2025-04-22T05:48:58.198Z"
   },
   {
    "duration": 5,
    "start_time": "2025-04-22T05:48:59.527Z"
   },
   {
    "duration": 15001,
    "start_time": "2025-04-22T05:48:59.534Z"
   },
   {
    "duration": 9671,
    "start_time": "2025-04-22T05:49:14.537Z"
   },
   {
    "duration": 114,
    "start_time": "2025-04-22T05:49:24.211Z"
   },
   {
    "duration": 4398,
    "start_time": "2025-04-22T05:49:24.327Z"
   },
   {
    "duration": 4601,
    "start_time": "2025-04-22T05:49:28.727Z"
   },
   {
    "duration": 687,
    "start_time": "2025-04-22T05:49:33.330Z"
   },
   {
    "duration": 0,
    "start_time": "2025-04-22T05:49:34.019Z"
   },
   {
    "duration": 0,
    "start_time": "2025-04-22T05:49:34.020Z"
   },
   {
    "duration": 0,
    "start_time": "2025-04-22T05:49:34.021Z"
   },
   {
    "duration": 0,
    "start_time": "2025-04-22T05:49:34.023Z"
   },
   {
    "duration": 0,
    "start_time": "2025-04-22T05:49:34.025Z"
   },
   {
    "duration": 0,
    "start_time": "2025-04-22T05:49:34.026Z"
   },
   {
    "duration": 0,
    "start_time": "2025-04-22T05:49:34.027Z"
   },
   {
    "duration": 0,
    "start_time": "2025-04-22T05:49:34.028Z"
   },
   {
    "duration": 0,
    "start_time": "2025-04-22T05:49:34.029Z"
   },
   {
    "duration": 0,
    "start_time": "2025-04-22T05:49:34.030Z"
   },
   {
    "duration": 256,
    "start_time": "2025-04-22T05:49:50.360Z"
   },
   {
    "duration": 4359,
    "start_time": "2025-04-22T05:49:52.391Z"
   },
   {
    "duration": 3811,
    "start_time": "2025-04-22T05:49:58.702Z"
   },
   {
    "duration": 602,
    "start_time": "2025-04-22T05:50:02.516Z"
   },
   {
    "duration": 10,
    "start_time": "2025-04-22T05:50:03.120Z"
   },
   {
    "duration": 12,
    "start_time": "2025-04-22T05:50:03.132Z"
   },
   {
    "duration": 3178,
    "start_time": "2025-04-22T05:50:03.146Z"
   },
   {
    "duration": 3303,
    "start_time": "2025-04-22T05:50:06.327Z"
   },
   {
    "duration": 72,
    "start_time": "2025-04-22T05:50:09.632Z"
   },
   {
    "duration": 5501,
    "start_time": "2025-04-22T05:50:09.707Z"
   },
   {
    "duration": 3445,
    "start_time": "2025-04-22T05:50:15.210Z"
   },
   {
    "duration": 10,
    "start_time": "2025-04-22T06:14:58.106Z"
   },
   {
    "duration": 5,
    "start_time": "2025-04-22T06:15:18.228Z"
   },
   {
    "duration": 1807,
    "start_time": "2025-04-22T06:15:26.064Z"
   },
   {
    "duration": 1933,
    "start_time": "2025-04-22T06:15:50.112Z"
   },
   {
    "duration": 1252,
    "start_time": "2025-04-22T06:16:30.260Z"
   },
   {
    "duration": 6,
    "start_time": "2025-04-22T06:16:31.514Z"
   },
   {
    "duration": 15712,
    "start_time": "2025-04-22T06:16:31.521Z"
   },
   {
    "duration": 10189,
    "start_time": "2025-04-22T06:16:47.235Z"
   },
   {
    "duration": 112,
    "start_time": "2025-04-22T06:16:57.427Z"
   },
   {
    "duration": 4477,
    "start_time": "2025-04-22T06:16:57.541Z"
   },
   {
    "duration": 4206,
    "start_time": "2025-04-22T06:17:02.020Z"
   },
   {
    "duration": 488,
    "start_time": "2025-04-22T06:17:06.228Z"
   },
   {
    "duration": 5291,
    "start_time": "2025-04-22T06:17:06.718Z"
   },
   {
    "duration": 3894,
    "start_time": "2025-04-22T06:17:12.011Z"
   },
   {
    "duration": 724,
    "start_time": "2025-04-22T06:17:15.907Z"
   },
   {
    "duration": 10,
    "start_time": "2025-04-22T06:17:16.632Z"
   },
   {
    "duration": 62,
    "start_time": "2025-04-22T06:17:16.644Z"
   },
   {
    "duration": 3606,
    "start_time": "2025-04-22T06:17:16.709Z"
   },
   {
    "duration": 3008,
    "start_time": "2025-04-22T06:17:20.317Z"
   },
   {
    "duration": 2,
    "start_time": "2025-04-22T06:17:23.327Z"
   },
   {
    "duration": 4978,
    "start_time": "2025-04-22T06:17:23.331Z"
   },
   {
    "duration": 2606,
    "start_time": "2025-04-22T06:17:28.311Z"
   },
   {
    "duration": 3289,
    "start_time": "2025-04-22T06:17:30.919Z"
   },
   {
    "duration": 1722,
    "start_time": "2025-04-22T06:17:34.210Z"
   },
   {
    "duration": 750,
    "start_time": "2025-04-22T07:04:15.958Z"
   },
   {
    "duration": 12,
    "start_time": "2025-04-22T07:04:16.711Z"
   },
   {
    "duration": 17983,
    "start_time": "2025-04-22T07:04:16.724Z"
   },
   {
    "duration": 11727,
    "start_time": "2025-04-22T07:04:34.709Z"
   },
   {
    "duration": 184,
    "start_time": "2025-04-22T07:04:46.438Z"
   },
   {
    "duration": 5596,
    "start_time": "2025-04-22T07:04:46.624Z"
   },
   {
    "duration": 5808,
    "start_time": "2025-04-22T07:04:52.222Z"
   },
   {
    "duration": 601,
    "start_time": "2025-04-22T07:04:58.033Z"
   },
   {
    "duration": 6234,
    "start_time": "2025-04-22T07:04:58.636Z"
   },
   {
    "duration": 4919,
    "start_time": "2025-04-22T07:05:04.912Z"
   },
   {
    "duration": 688,
    "start_time": "2025-04-22T07:05:09.833Z"
   },
   {
    "duration": 14,
    "start_time": "2025-04-22T07:05:10.524Z"
   },
   {
    "duration": 66,
    "start_time": "2025-04-22T07:05:10.540Z"
   },
   {
    "duration": 4416,
    "start_time": "2025-04-22T07:05:10.612Z"
   },
   {
    "duration": 3705,
    "start_time": "2025-04-22T07:05:15.030Z"
   },
   {
    "duration": 5392,
    "start_time": "2025-04-22T07:05:18.736Z"
   },
   {
    "duration": 2296,
    "start_time": "2025-04-22T07:05:24.131Z"
   },
   {
    "duration": 3705,
    "start_time": "2025-04-22T07:05:26.430Z"
   },
   {
    "duration": 1873,
    "start_time": "2025-04-22T07:05:30.136Z"
   },
   {
    "duration": 2453,
    "start_time": "2025-04-22T07:06:02.159Z"
   },
   {
    "duration": 1798,
    "start_time": "2025-04-22T07:06:05.568Z"
   },
   {
    "duration": 752,
    "start_time": "2025-04-22T07:06:16.405Z"
   },
   {
    "duration": 8,
    "start_time": "2025-04-22T07:06:17.159Z"
   },
   {
    "duration": 17788,
    "start_time": "2025-04-22T07:06:17.169Z"
   },
   {
    "duration": 11346,
    "start_time": "2025-04-22T07:06:34.960Z"
   },
   {
    "duration": 131,
    "start_time": "2025-04-22T07:06:46.311Z"
   },
   {
    "duration": 5529,
    "start_time": "2025-04-22T07:06:46.508Z"
   },
   {
    "duration": 5586,
    "start_time": "2025-04-22T07:06:52.039Z"
   },
   {
    "duration": 522,
    "start_time": "2025-04-22T07:06:57.628Z"
   },
   {
    "duration": 6566,
    "start_time": "2025-04-22T07:06:58.152Z"
   },
   {
    "duration": 5011,
    "start_time": "2025-04-22T07:07:04.720Z"
   },
   {
    "duration": 673,
    "start_time": "2025-04-22T07:07:09.733Z"
   },
   {
    "duration": 11,
    "start_time": "2025-04-22T07:07:10.408Z"
   },
   {
    "duration": 18,
    "start_time": "2025-04-22T07:07:10.421Z"
   },
   {
    "duration": 3798,
    "start_time": "2025-04-22T07:07:10.441Z"
   },
   {
    "duration": 3188,
    "start_time": "2025-04-22T07:07:14.240Z"
   },
   {
    "duration": 5585,
    "start_time": "2025-04-22T07:07:17.430Z"
   },
   {
    "duration": 2450,
    "start_time": "2025-04-22T07:07:23.016Z"
   },
   {
    "duration": 3893,
    "start_time": "2025-04-22T07:07:25.505Z"
   },
   {
    "duration": 2164,
    "start_time": "2025-04-22T07:07:29.400Z"
   },
   {
    "duration": 753,
    "start_time": "2025-04-22T13:09:38.367Z"
   },
   {
    "duration": 8,
    "start_time": "2025-04-22T13:09:39.123Z"
   },
   {
    "duration": 16681,
    "start_time": "2025-04-22T13:09:39.133Z"
   },
   {
    "duration": 11918,
    "start_time": "2025-04-22T13:09:55.882Z"
   },
   {
    "duration": 106,
    "start_time": "2025-04-22T13:10:07.802Z"
   },
   {
    "duration": 5440,
    "start_time": "2025-04-22T13:10:07.971Z"
   },
   {
    "duration": 5290,
    "start_time": "2025-04-22T13:10:13.413Z"
   },
   {
    "duration": 487,
    "start_time": "2025-04-22T13:10:18.706Z"
   },
   {
    "duration": 5422,
    "start_time": "2025-04-22T13:10:19.195Z"
   },
   {
    "duration": 4788,
    "start_time": "2025-04-22T13:10:24.620Z"
   },
   {
    "duration": 763,
    "start_time": "2025-04-22T13:10:29.410Z"
   },
   {
    "duration": 18,
    "start_time": "2025-04-22T13:10:30.175Z"
   },
   {
    "duration": 6,
    "start_time": "2025-04-22T13:10:30.195Z"
   },
   {
    "duration": 332,
    "start_time": "2025-04-22T13:10:30.202Z"
   },
   {
    "duration": 0,
    "start_time": "2025-04-22T13:10:30.537Z"
   },
   {
    "duration": 0,
    "start_time": "2025-04-22T13:10:30.538Z"
   },
   {
    "duration": 0,
    "start_time": "2025-04-22T13:10:30.572Z"
   },
   {
    "duration": 0,
    "start_time": "2025-04-22T13:10:30.574Z"
   },
   {
    "duration": 0,
    "start_time": "2025-04-22T13:10:30.576Z"
   },
   {
    "duration": 0,
    "start_time": "2025-04-22T13:10:30.577Z"
   },
   {
    "duration": 732,
    "start_time": "2025-04-22T13:18:22.184Z"
   },
   {
    "duration": 9,
    "start_time": "2025-04-22T13:18:22.918Z"
   },
   {
    "duration": 16457,
    "start_time": "2025-04-22T13:18:22.928Z"
   },
   {
    "duration": 10307,
    "start_time": "2025-04-22T13:18:39.393Z"
   },
   {
    "duration": 118,
    "start_time": "2025-04-22T13:18:49.702Z"
   },
   {
    "duration": 5178,
    "start_time": "2025-04-22T13:18:49.822Z"
   },
   {
    "duration": 5284,
    "start_time": "2025-04-22T13:18:55.002Z"
   },
   {
    "duration": 494,
    "start_time": "2025-04-22T13:19:00.287Z"
   },
   {
    "duration": 294,
    "start_time": "2025-04-22T13:19:00.785Z"
   },
   {
    "duration": 0,
    "start_time": "2025-04-22T13:19:01.082Z"
   },
   {
    "duration": 0,
    "start_time": "2025-04-22T13:19:01.083Z"
   },
   {
    "duration": 0,
    "start_time": "2025-04-22T13:19:01.084Z"
   },
   {
    "duration": 0,
    "start_time": "2025-04-22T13:19:01.086Z"
   },
   {
    "duration": 0,
    "start_time": "2025-04-22T13:19:01.087Z"
   },
   {
    "duration": 0,
    "start_time": "2025-04-22T13:19:01.088Z"
   },
   {
    "duration": 0,
    "start_time": "2025-04-22T13:19:01.091Z"
   },
   {
    "duration": 0,
    "start_time": "2025-04-22T13:19:01.093Z"
   },
   {
    "duration": 0,
    "start_time": "2025-04-22T13:19:01.094Z"
   },
   {
    "duration": 0,
    "start_time": "2025-04-22T13:19:01.096Z"
   },
   {
    "duration": 0,
    "start_time": "2025-04-22T13:19:01.097Z"
   },
   {
    "duration": 29,
    "start_time": "2025-04-22T13:19:14.783Z"
   },
   {
    "duration": 10,
    "start_time": "2025-04-22T13:19:19.556Z"
   },
   {
    "duration": 9,
    "start_time": "2025-04-22T13:19:24.696Z"
   },
   {
    "duration": 11,
    "start_time": "2025-04-22T13:22:53.769Z"
   },
   {
    "duration": 5118,
    "start_time": "2025-04-22T13:22:56.886Z"
   },
   {
    "duration": 4335,
    "start_time": "2025-04-22T13:37:47.050Z"
   },
   {
    "duration": 393,
    "start_time": "2025-04-22T13:37:53.097Z"
   },
   {
    "duration": 17,
    "start_time": "2025-04-22T13:37:57.243Z"
   },
   {
    "duration": 6,
    "start_time": "2025-04-22T13:38:36.079Z"
   },
   {
    "duration": 230,
    "start_time": "2025-04-22T13:38:39.485Z"
   },
   {
    "duration": 1432,
    "start_time": "2025-04-22T13:38:57.744Z"
   },
   {
    "duration": 12,
    "start_time": "2025-04-22T13:47:33.081Z"
   },
   {
    "duration": 9586,
    "start_time": "2025-04-22T13:48:29.886Z"
   },
   {
    "duration": 3929,
    "start_time": "2025-04-22T13:48:53.483Z"
   },
   {
    "duration": 4156,
    "start_time": "2025-04-22T13:49:37.831Z"
   },
   {
    "duration": 21,
    "start_time": "2025-04-22T13:49:52.113Z"
   },
   {
    "duration": 13,
    "start_time": "2025-04-22T13:50:31.188Z"
   },
   {
    "duration": 2988,
    "start_time": "2025-04-22T13:50:41.549Z"
   },
   {
    "duration": 1504,
    "start_time": "2025-04-22T13:51:00.678Z"
   },
   {
    "duration": 8,
    "start_time": "2025-04-22T13:52:38.411Z"
   },
   {
    "duration": 2671,
    "start_time": "2025-04-22T13:53:11.268Z"
   },
   {
    "duration": 945,
    "start_time": "2025-04-22T13:53:14.997Z"
   },
   {
    "duration": 3510,
    "start_time": "2025-04-22T13:53:44.483Z"
   },
   {
    "duration": 13,
    "start_time": "2025-04-22T13:53:50.748Z"
   },
   {
    "duration": 1212,
    "start_time": "2025-04-22T13:54:07.130Z"
   },
   {
    "duration": 698,
    "start_time": "2025-04-22T14:05:36.699Z"
   },
   {
    "duration": 9,
    "start_time": "2025-04-22T14:05:37.399Z"
   },
   {
    "duration": 16279,
    "start_time": "2025-04-22T14:05:37.410Z"
   },
   {
    "duration": 11191,
    "start_time": "2025-04-22T14:05:53.692Z"
   },
   {
    "duration": 117,
    "start_time": "2025-04-22T14:06:04.885Z"
   },
   {
    "duration": 5473,
    "start_time": "2025-04-22T14:06:05.005Z"
   },
   {
    "duration": 4910,
    "start_time": "2025-04-22T14:06:10.481Z"
   },
   {
    "duration": 557,
    "start_time": "2025-04-22T14:06:15.393Z"
   },
   {
    "duration": 4746,
    "start_time": "2025-04-22T14:06:15.952Z"
   },
   {
    "duration": 3826,
    "start_time": "2025-04-22T14:06:20.699Z"
   },
   {
    "duration": 398,
    "start_time": "2025-04-22T14:06:24.574Z"
   },
   {
    "duration": 23,
    "start_time": "2025-04-22T14:06:24.974Z"
   },
   {
    "duration": 9,
    "start_time": "2025-04-22T14:06:24.998Z"
   },
   {
    "duration": 128,
    "start_time": "2025-04-22T14:06:25.010Z"
   },
   {
    "duration": 1639,
    "start_time": "2025-04-22T14:06:25.139Z"
   },
   {
    "duration": 8917,
    "start_time": "2025-04-22T14:06:26.779Z"
   },
   {
    "duration": 1817,
    "start_time": "2025-04-22T14:06:35.697Z"
   },
   {
    "duration": 63,
    "start_time": "2025-04-22T14:06:37.517Z"
   },
   {
    "duration": 4186,
    "start_time": "2025-04-22T14:06:37.582Z"
   },
   {
    "duration": 1489,
    "start_time": "2025-04-22T14:06:41.774Z"
   },
   {
    "duration": 440,
    "start_time": "2025-04-22T14:06:43.265Z"
   }
  ],
  "colab": {
   "name": "PySparkSprint.ipynb",
   "provenance": []
  },
  "kernelspec": {
   "display_name": "Python 3 (ipykernel)",
   "language": "python",
   "name": "python3"
  },
  "language_info": {
   "codemirror_mode": {
    "name": "ipython",
    "version": 3
   },
   "file_extension": ".py",
   "mimetype": "text/x-python",
   "name": "python",
   "nbconvert_exporter": "python",
   "pygments_lexer": "ipython3",
   "version": "3.9.5"
  },
  "toc": {
   "base_numbering": 1,
   "nav_menu": {},
   "number_sections": true,
   "sideBar": true,
   "skip_h1_title": true,
   "title_cell": "Table of Contents",
   "title_sidebar": "Contents",
   "toc_cell": false,
   "toc_position": {
    "height": "calc(100% - 180px)",
    "left": "10px",
    "top": "150px",
    "width": "165px"
   },
   "toc_section_display": true,
   "toc_window_display": true
  }
 },
 "nbformat": 4,
 "nbformat_minor": 5
}
